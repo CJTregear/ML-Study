{
 "cells": [
  {
   "cell_type": "code",
   "execution_count": 1,
   "id": "fe963964-757f-40ac-9fd2-d715061bc44f",
   "metadata": {},
   "outputs": [],
   "source": [
    "#imports\n",
    "import numpy as np"
   ]
  },
  {
   "cell_type": "code",
   "execution_count": 2,
   "id": "cc6b0e87-806d-4759-8a07-6fe9616bbf15",
   "metadata": {},
   "outputs": [
    {
     "name": "stdout",
     "output_type": "stream",
     "text": [
      "[[1 2 3 4]]\n"
     ]
    }
   ],
   "source": [
    "#create a vector\n",
    "nv = np.array([ [1,2,3,4] ])\n",
    "print(nv)"
   ]
  },
  {
   "cell_type": "code",
   "execution_count": 3,
   "id": "ada3e4fb-d69d-4d72-8140-f863796d90bf",
   "metadata": {},
   "outputs": [
    {
     "name": "stdout",
     "output_type": "stream",
     "text": [
      "[[1]\n",
      " [2]\n",
      " [3]\n",
      " [4]]\n"
     ]
    }
   ],
   "source": [
    "#transpose above vector\n",
    "print(nv.T)"
   ]
  },
  {
   "cell_type": "code",
   "execution_count": 11,
   "id": "4ebfdd89-0a6c-44a6-abbb-13dd42906886",
   "metadata": {},
   "outputs": [
    {
     "name": "stdout",
     "output_type": "stream",
     "text": [
      "[[1]\n",
      " [2]\n",
      " [3]\n",
      " [4]]\n"
     ]
    }
   ],
   "source": [
    "#transpose the transpose\n",
    "nvT = nv.T\n",
    "print(nvT)"
   ]
  },
  {
   "cell_type": "code",
   "execution_count": 4,
   "id": "cad84724-22b8-4ac6-a94a-098885052e99",
   "metadata": {},
   "outputs": [
    {
     "name": "stdout",
     "output_type": "stream",
     "text": [
      "[[1 2 3 4]\n",
      " [5 6 7 8]]\n"
     ]
    }
   ],
   "source": [
    "#repeat for matrix\n",
    "nM = np.array([ [1,2,3,4],[5,6,7,8] ])\n",
    "print(nM)"
   ]
  },
  {
   "cell_type": "code",
   "execution_count": 10,
   "id": "925cf2e4-d54d-4083-8734-a554ea315d9b",
   "metadata": {},
   "outputs": [
    {
     "name": "stdout",
     "output_type": "stream",
     "text": [
      "[[1 5]\n",
      " [2 6]\n",
      " [3 7]\n",
      " [4 8]]\n"
     ]
    }
   ],
   "source": [
    "#transponse matrix\n",
    "print(nM.T) "
   ]
  },
  {
   "cell_type": "code",
   "execution_count": 13,
   "id": "b23d5eac-23e5-43da-b6d3-bd6436eed86e",
   "metadata": {},
   "outputs": [
    {
     "name": "stdout",
     "output_type": "stream",
     "text": [
      "[[1 2 3 4]\n",
      " [5 6 7 8]]\n"
     ]
    }
   ],
   "source": [
    "#transpose the transpose\n",
    "nMT = nM.T\n",
    "print(nMT.T)"
   ]
  },
  {
   "cell_type": "code",
   "execution_count": null,
   "id": "1c6a8a47-150f-422b-83b6-af8587641e98",
   "metadata": {},
   "outputs": [],
   "source": []
  }
 ],
 "metadata": {
  "kernelspec": {
   "display_name": "Python 3 (ipykernel)",
   "language": "python",
   "name": "python3"
  },
  "language_info": {
   "codemirror_mode": {
    "name": "ipython",
    "version": 3
   },
   "file_extension": ".py",
   "mimetype": "text/x-python",
   "name": "python",
   "nbconvert_exporter": "python",
   "pygments_lexer": "ipython3",
   "version": "3.11.8"
  }
 },
 "nbformat": 4,
 "nbformat_minor": 5
}
