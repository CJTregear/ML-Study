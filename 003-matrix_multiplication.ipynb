{
 "cells": [
  {
   "cell_type": "code",
   "execution_count": 2,
   "id": "7191b564-c85f-46a8-ba73-daed8722b605",
   "metadata": {},
   "outputs": [],
   "source": [
    "import numpy as np"
   ]
  },
  {
   "cell_type": "code",
   "execution_count": 8,
   "id": "60e5b8be-efd9-456a-a02d-571739adacca",
   "metadata": {},
   "outputs": [],
   "source": [
    "A = np.random.randn(3, 4)\n",
    "B = np.random.randn(4, 5)\n",
    "C = np.random.randn(3, 7)"
   ]
  },
  {
   "cell_type": "code",
   "execution_count": 12,
   "id": "aea57821-c93b-468a-a18b-823335f4eac1",
   "metadata": {},
   "outputs": [
    {
     "name": "stdout",
     "output_type": "stream",
     "text": [
      "[[ 0.38525641 -0.24928838 -1.3180497   0.79023354]\n",
      " [-0.30915514 -0.10330807  1.57244303 -0.63326273]\n",
      " [ 0.20291824 -1.17746785  0.67699299  0.45286705]]\n",
      " \n",
      "[[ 1.31099305  1.41608882  0.21279173  0.0817738  -0.33707876]\n",
      " [ 0.38070622 -2.1104656  -0.79929066  0.40740686  0.31557055]\n",
      " [-2.02061246  0.05725326 -0.85524284 -2.23657956 -0.69081806]\n",
      " [ 0.16956113 -0.41950201 -0.22452445 -0.14768193  1.58512118]]\n",
      "[[-1.05866003 -1.9473732  -1.09554752 -1.31572083  0.30857229  0.36656364\n",
      "  -1.76745353]\n",
      " [-0.35307701 -0.12019978 -1.69262361 -1.73779798  0.20596476  0.93238926\n",
      "   0.24107054]\n",
      " [ 0.20268485  1.48613593 -1.17757828  0.28324766  0.47361105 -0.52558625\n",
      "  -0.64751777]]\n"
     ]
    }
   ],
   "source": [
    "print(A), print(' ')\n",
    "print(B), print(' ')\n",
    "print(C), print(' ')"
   ]
  },
  {
   "cell_type": "code",
   "execution_count": 16,
   "id": "f4bb8b61-0636-49bd-ad05-89c610908fb0",
   "metadata": {},
   "outputs": [
    {
     "name": "stdout",
     "output_type": "stream",
     "text": [
      "[[-0.26  0.06  0.98 -0.52]\n",
      " [-0.41 -1.25  3.38 -0.79]\n",
      " [-0.14  1.83 -2.01 -0.33]\n",
      " [ 0.09  0.17 -0.81  0.19]\n",
      " [ 0.15 -0.66  0.24  0.33]\n",
      " [-0.25  0.43  0.63 -0.54]\n",
      " [-0.89  1.18  2.27 -1.84]]\n",
      " \n"
     ]
    },
    {
     "data": {
      "text/plain": [
       "(None, None)"
      ]
     },
     "execution_count": 16,
     "metadata": {},
     "output_type": "execute_result"
    }
   ],
   "source": [
    "#try some multiplication\n",
    "# print(np.round( A@B, 2)), print(' ')\n",
    "# print(np.round( A@C , 2)), print(' ')\n",
    "# print(np.round( B@C , 2)), print(' ')\n",
    "print(np.round( C.T@A, 2)), print(' ')\n",
    "\n",
    "#Here, c and a cannot be multiplied as the inner dimensions are different. We can get around this by first transposing C. Now, the new matrix dimensions are 7 by 4\n"
   ]
  },
  {
   "cell_type": "code",
   "execution_count": null,
   "id": "7cfc54b9-fa97-402a-84ef-35a90e0b7890",
   "metadata": {},
   "outputs": [],
   "source": [
    "#It is important to remember the rul for matrix multiplication validity"
   ]
  }
 ],
 "metadata": {
  "kernelspec": {
   "display_name": "Python 3 (ipykernel)",
   "language": "python",
   "name": "python3"
  },
  "language_info": {
   "codemirror_mode": {
    "name": "ipython",
    "version": 3
   },
   "file_extension": ".py",
   "mimetype": "text/x-python",
   "name": "python",
   "nbconvert_exporter": "python",
   "pygments_lexer": "ipython3",
   "version": "3.11.8"
  }
 },
 "nbformat": 4,
 "nbformat_minor": 5
}
