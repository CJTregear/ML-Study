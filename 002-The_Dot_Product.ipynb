{
 "cells": [
  {
   "cell_type": "code",
   "execution_count": 1,
   "id": "37e6f74e-1eb3-4433-8b1d-ac29b34d2563",
   "metadata": {},
   "outputs": [],
   "source": [
    "import numpy as np"
   ]
  },
  {
   "cell_type": "code",
   "execution_count": 2,
   "id": "4c135039-01ff-49b7-8cce-bc6f587c6c43",
   "metadata": {},
   "outputs": [
    {
     "name": "stdout",
     "output_type": "stream",
     "text": [
      "-2\n",
      "-2\n"
     ]
    }
   ],
   "source": [
    "#create a vector\n",
    "nv1 = np.array([1,2,3,4])\n",
    "nv2 = np.array([0,1,0,-1])\n",
    "\n",
    "#dot product via function\n",
    "print(np.dot(nv1, nv2))\n",
    "\n",
    "#dot product via computation\n",
    "print(np.sum(nv1*nv2))"
   ]
  },
  {
   "cell_type": "code",
   "execution_count": 1,
   "id": "f1dd3e23-e3cb-4be3-9631-c276d659aded",
   "metadata": {},
   "outputs": [
    {
     "ename": "NameError",
     "evalue": "name 'np' is not defined",
     "output_type": "error",
     "traceback": [
      "\u001b[0;31m---------------------------------------------------------------------------\u001b[0m",
      "\u001b[0;31mNameError\u001b[0m                                 Traceback (most recent call last)",
      "Cell \u001b[0;32mIn[1], line 2\u001b[0m\n\u001b[1;32m      1\u001b[0m \u001b[38;5;66;03m#create vector of different lengths\u001b[39;00m\n\u001b[0;32m----> 2\u001b[0m nv3 \u001b[38;5;241m=\u001b[39m np\u001b[38;5;241m.\u001b[39marray([\u001b[38;5;241m1\u001b[39m,\u001b[38;5;241m2\u001b[39m,\u001b[38;5;241m3\u001b[39m])\n\u001b[1;32m      3\u001b[0m nv4 \u001b[38;5;241m=\u001b[39m np\u001b[38;5;241m.\u001b[39marray([\u001b[38;5;241m4\u001b[39m,\u001b[38;5;241m5\u001b[39m,\u001b[38;5;241m6\u001b[39m,\u001b[38;5;241m7\u001b[39m])\n\u001b[1;32m      5\u001b[0m \u001b[38;5;66;03m#dot product via function returns error\u001b[39;00m\n",
      "\u001b[0;31mNameError\u001b[0m: name 'np' is not defined"
     ]
    }
   ],
   "source": [
    "#create vector of different lengths\n",
    "nv3 = np.array([1,2,3])\n",
    "nv4 = np.array([4,5,6,7])\n",
    "\n",
    "#dot product via function returns error\n",
    "print(np.dot(nv3, nv4))\n",
    "\n",
    "#dot product via computation returns error\n",
    "print(np.sum(nv3*nv4)) \n",
    "\n",
    "#dimensions of matrix that are having the dot function applied must be the same."
   ]
  },
  {
   "cell_type": "code",
   "execution_count": 9,
   "id": "d0ba7399-2e9e-49b3-a361-6cf2c03a6aca",
   "metadata": {},
   "outputs": [],
   "source": [
    "#The dot product is a single nuEnjoying The Content? - Take A Look At Other Content on @mindset.ventures (You Might learn something new)… See morember that reflects the commonalities between two objects (vectors, matrices, tensors, signals, and images)\n",
    "#The dot product is sometimes referred to as a correlation coefficient or co-variance coefficient."
   ]
  },
  {
   "cell_type": "code",
   "execution_count": null,
   "id": "74454014-dadf-4b1e-8172-33f91e2acb3e",
   "metadata": {},
   "outputs": [],
   "source": []
  }
 ],
 "metadata": {
  "kernelspec": {
   "display_name": "Python 3 (ipykernel)",
   "language": "python",
   "name": "python3"
  },
  "language_info": {
   "codemirror_mode": {
    "name": "ipython",
    "version": 3
   },
   "file_extension": ".py",
   "mimetype": "text/x-python",
   "name": "python",
   "nbconvert_exporter": "python",
   "pygments_lexer": "ipython3",
   "version": "3.11.8"
  }
 },
 "nbformat": 4,
 "nbformat_minor": 5
}
