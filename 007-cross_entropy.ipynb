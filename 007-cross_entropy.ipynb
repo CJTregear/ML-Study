{
 "cells": [
  {
   "cell_type": "code",
   "execution_count": 1,
   "id": "b31ae76b-77ae-44e5-b745-6f740907a323",
   "metadata": {},
   "outputs": [],
   "source": [
    "import numpy as np\n",
    "import matplotlib.pyplot as plt"
   ]
  },
  {
   "cell_type": "code",
   "execution_count": 2,
   "id": "3c7bc000-35ca-4254-b91a-7e1bbd67576b",
   "metadata": {},
   "outputs": [
    {
     "name": "stdout",
     "output_type": "stream",
     "text": [
      "Cross entropy: 1.3862943611198906\n"
     ]
    }
   ],
   "source": [
    "# not all probabilities must sum to 1!\n",
    "p = [   1,0    ] #sum = 1\n",
    "q = [ .25,.75  ] # sum= 1\n",
    "\n",
    "H = 0\n",
    "for i in range(len(p)):\n",
    "    H -= p[i]*np.log(q[i])\n",
    "\n",
    "print('Cross entropy: ' + str(H))"
   ]
  },
  {
   "cell_type": "code",
   "execution_count": 4,
   "id": "a6ff4052-e8e4-4feb-b6f1-2b1095ca4398",
   "metadata": {},
   "outputs": [
    {
     "name": "stdout",
     "output_type": "stream",
     "text": [
      "Correct entropy: 1.3862943611198906\n"
     ]
    }
   ],
   "source": [
    "#also correct, written out for N=2 events\n",
    "# This formula is known as Binary cross entropy\n",
    "H = -( p[0]*np.log(q[0]) + p[1]*np.log(q[1]))\n",
    "print('Correct entropy: ' + str(H))"
   ]
  },
  {
   "cell_type": "code",
   "execution_count": 7,
   "id": "9897ef8c-736e-41e0-a9b1-37edaa7382a0",
   "metadata": {},
   "outputs": [
    {
     "name": "stdout",
     "output_type": "stream",
     "text": [
      "Manually simplified: 1.3862943611198906\n"
     ]
    }
   ],
   "source": [
    "#Simplification - because p[1] == 0, we can cancel out the second half of the formula:\n",
    "H = -p[0]*np.log(q[0])\n",
    "#and because p[0] == 1, we can simplify further to:\n",
    "H = -np.log(q[0])\n",
    "print('Manually simplified: ' + str(H))\n"
   ]
  },
  {
   "cell_type": "code",
   "execution_count": null,
   "id": "df2ee292-d886-48aa-a67b-875d91b80353",
   "metadata": {},
   "outputs": [],
   "source": []
  }
 ],
 "metadata": {
  "kernelspec": {
   "display_name": "Python 3 (ipykernel)",
   "language": "python",
   "name": "python3"
  },
  "language_info": {
   "codemirror_mode": {
    "name": "ipython",
    "version": 3
   },
   "file_extension": ".py",
   "mimetype": "text/x-python",
   "name": "python",
   "nbconvert_exporter": "python",
   "pygments_lexer": "ipython3",
   "version": "3.11.8"
  }
 },
 "nbformat": 4,
 "nbformat_minor": 5
}
