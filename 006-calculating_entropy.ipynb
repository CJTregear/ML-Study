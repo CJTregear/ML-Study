{
 "cells": [
  {
   "cell_type": "code",
   "execution_count": 3,
   "id": "034d11dd-cd62-4950-8c12-f3df3eae3243",
   "metadata": {},
   "outputs": [],
   "source": [
    "import numpy as np\n",
    "import matplotlib.pyplot as plt"
   ]
  },
  {
   "cell_type": "code",
   "execution_count": 4,
   "id": "d00e5a12-7cf0-4ad4-8d99-0d59a32d2887",
   "metadata": {},
   "outputs": [
    {
     "name": "stdout",
     "output_type": "stream",
     "text": [
      "Wrong entropy: 0.21576155433883568\n"
     ]
    }
   ],
   "source": [
    "#probability of an event happening\n",
    "p = .25\n",
    "p = 1-p\n",
    "\n",
    "# NOT the correct formula\n",
    "H = -(p*np.log(p))\n",
    "print('Wrong entropy: ' + str(H))"
   ]
  },
  {
   "cell_type": "code",
   "execution_count": 5,
   "id": "6a5cab1f-94fa-41d6-85b8-abfe7c14d2d0",
   "metadata": {},
   "outputs": [
    {
     "name": "stdout",
     "output_type": "stream",
     "text": [
      "Correct entropy:0.5623351446188083\n"
     ]
    }
   ],
   "source": [
    "#The correct way to calculate entropy:\n",
    "x = [.25,.75]\n",
    "\n",
    "H = 0\n",
    "for p in x:\n",
    "    H -= p*np.log(p)\n",
    "\n",
    "print('Correct entropy:' + str(H))"
   ]
  },
  {
   "cell_type": "code",
   "execution_count": 7,
   "id": "593a740b-fed6-438d-9515-f813cf3568a1",
   "metadata": {},
   "outputs": [
    {
     "name": "stdout",
     "output_type": "stream",
     "text": [
      "Correct Entropy 0.5623351446188083\n"
     ]
    }
   ],
   "source": [
    "# also correct, written out for N=2 events\n",
    "H = -( p*np.log(p) + (1-p)*np.log(1-p))\n",
    "print('Correct Entropy ' + str(H))"
   ]
  },
  {
   "cell_type": "code",
   "execution_count": null,
   "id": "e24be59f-12b8-4b6d-b1e8-91ea36a5a35d",
   "metadata": {},
   "outputs": [],
   "source": []
  }
 ],
 "metadata": {
  "kernelspec": {
   "display_name": "Python 3 (ipykernel)",
   "language": "python",
   "name": "python3"
  },
  "language_info": {
   "codemirror_mode": {
    "name": "ipython",
    "version": 3
   },
   "file_extension": ".py",
   "mimetype": "text/x-python",
   "name": "python",
   "nbconvert_exporter": "python",
   "pygments_lexer": "ipython3",
   "version": "3.11.8"
  }
 },
 "nbformat": 4,
 "nbformat_minor": 5
}
