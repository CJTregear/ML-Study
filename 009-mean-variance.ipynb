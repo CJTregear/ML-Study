{
 "cells": [
  {
   "cell_type": "code",
   "execution_count": 1,
   "id": "2f0fa027-80b0-4a97-be2c-a0a82bb1e855",
   "metadata": {},
   "outputs": [],
   "source": [
    "import numpy as np"
   ]
  },
  {
   "cell_type": "code",
   "execution_count": 9,
   "id": "a7b9bad8-2cd3-4fbd-bdf0-2e8e7928500b",
   "metadata": {},
   "outputs": [
    {
     "name": "stdout",
     "output_type": "stream",
     "text": [
      "3.142857142857143\n",
      "3.142857142857143\n"
     ]
    }
   ],
   "source": [
    "#Create a list of numbers to compute the mean and variance of\n",
    "x = [1,2,4,6,5,4,0]\n",
    "n = len(x)\n",
    "\n",
    "#compute the mean\n",
    "mean1 = np.mean(x)\n",
    "mean2 = np.sum(x) / n\n",
    "\n",
    "#print them\n",
    "print(mean1)\n",
    "print(mean2)\n"
   ]
  },
  {
   "cell_type": "code",
   "execution_count": 10,
   "id": "87833971-9424-4a97-8e60-110c8634d37b",
   "metadata": {},
   "outputs": [
    {
     "name": "stdout",
     "output_type": "stream",
     "text": [
      "4.122448979591836\n",
      "4.809523809523809\n",
      "4.809523809523809\n"
     ]
    }
   ],
   "source": [
    "#compute variance\n",
    "var1 = np.var(x) #default set to biased variance where degrees of freedom is set to 0\n",
    "var2 = (1/(n-1)) * np.sum( (x-mean1)**2 ) #This is known as an un biased variance related to the -1 we are subtracting off. Related to degrees of freedom being equal to 1\n",
    "# note, if we divide only by n, then this is known as a biased variance.\n",
    "\n",
    "var3 = np.var(x, ddof=1)\n",
    "\n",
    "#print variance\n",
    "print(var1)\n",
    "print(var2)\n",
    "print(var3)"
   ]
  },
  {
   "cell_type": "code",
   "execution_count": null,
   "id": "0e49bba6-100a-4802-b368-8ac5f6e03a25",
   "metadata": {},
   "outputs": [],
   "source": []
  }
 ],
 "metadata": {
  "kernelspec": {
   "display_name": "Python 3 (ipykernel)",
   "language": "python",
   "name": "python3"
  },
  "language_info": {
   "codemirror_mode": {
    "name": "ipython",
    "version": 3
   },
   "file_extension": ".py",
   "mimetype": "text/x-python",
   "name": "python",
   "nbconvert_exporter": "python",
   "pygments_lexer": "ipython3",
   "version": "3.11.8"
  }
 },
 "nbformat": 4,
 "nbformat_minor": 5
}
