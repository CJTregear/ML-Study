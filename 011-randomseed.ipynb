{
 "cells": [
  {
   "cell_type": "code",
   "execution_count": 1,
   "id": "3f256ddb-30e0-4ba7-a5eb-6c6b259bc28f",
   "metadata": {},
   "outputs": [],
   "source": [
    "import numpy as np"
   ]
  },
  {
   "cell_type": "code",
   "execution_count": 2,
   "id": "0c3b88d6-525f-4e54-a3b1-7c137935d975",
   "metadata": {},
   "outputs": [
    {
     "data": {
      "text/plain": [
       "array([ 0.26657316, -0.19703127,  0.2247906 ,  0.57293395,  1.07128263])"
      ]
     },
     "execution_count": 2,
     "metadata": {},
     "output_type": "execute_result"
    }
   ],
   "source": [
    "# generate a few random numbers\n",
    "np.random.randn(5)"
   ]
  },
  {
   "cell_type": "code",
   "execution_count": 7,
   "id": "01d39d94-09dd-423b-be06-6e5205daca2d",
   "metadata": {},
   "outputs": [
    {
     "name": "stdout",
     "output_type": "stream",
     "text": [
      "[ 0.27626589 -1.85462808  0.62390111  1.14531129  1.03719047]\n",
      "[ 1.88663893 -0.11169829 -0.36210134  0.14867505 -0.43778315]\n"
     ]
    }
   ],
   "source": [
    "# repeat after fixing the seed - an old but still popular methodn\n",
    "np.random.seed(17)\n",
    "print(np.random.randn(5))\n",
    "print(np.random.randn(5))\n",
    "\n",
    "#[ 0.27626589 -1.85462808  0.62390111  1.14531129  1.03719047]\n",
    "#[ 1.88663893 -0.11169829 -0.36210134  0.14867505 -0.43778315]\n"
   ]
  },
  {
   "cell_type": "code",
   "execution_count": 8,
   "id": "3a48ecef-8f1e-4825-bf24-8bd26583d542",
   "metadata": {},
   "outputs": [
    {
     "name": "stdout",
     "output_type": "stream",
     "text": [
      "[ 0.27626589 -1.85462808  0.62390111  1.14531129  1.03719047]\n",
      "[-0.24972681 -1.01951826  2.23461339  0.72764703  1.2921122 ]\n",
      "[ 1.88663893 -0.11169829 -0.36210134  0.14867505 -0.43778315]\n",
      "[ 1.15494929 -0.0015467  -0.11196868 -1.08136725  0.10265891]\n",
      "[ 2.171257    1.15231025 -1.81881234 -0.13804934  0.53983961]\n"
     ]
    }
   ],
   "source": [
    "#New seed mechanism in numpy\n",
    "randseed1 = np.random.RandomState(17)\n",
    "randseed2 = np.random.RandomState(20210530) #date\n",
    "\n",
    "print( randseed1.randn(5) ) #same difference\n",
    "print( randseed2.randn(5) ) # different from above but same each time.\n",
    "\n",
    "print( randseed1.randn(5) ) # same as two up\n",
    "print( randseed2.randn(5) ) # same as two up\n",
    "\n",
    "print( np.random.randn(5) ) # different every time"
   ]
  },
  {
   "cell_type": "code",
   "execution_count": null,
   "id": "2b6705df-753f-4494-87c5-29c83bd36d7e",
   "metadata": {},
   "outputs": [],
   "source": []
  }
 ],
 "metadata": {
  "kernelspec": {
   "display_name": "Python 3 (ipykernel)",
   "language": "python",
   "name": "python3"
  },
  "language_info": {
   "codemirror_mode": {
    "name": "ipython",
    "version": 3
   },
   "file_extension": ".py",
   "mimetype": "text/x-python",
   "name": "python",
   "nbconvert_exporter": "python",
   "pygments_lexer": "ipython3",
   "version": "3.11.8"
  }
 },
 "nbformat": 4,
 "nbformat_minor": 5
}
