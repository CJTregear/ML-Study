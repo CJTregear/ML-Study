{
 "cells": [
  {
   "cell_type": "code",
   "execution_count": 4,
   "id": "6d515f78-4afe-4a07-83b7-d7b822982ee7",
   "metadata": {},
   "outputs": [],
   "source": [
    "import numpy as np"
   ]
  },
  {
   "cell_type": "code",
   "execution_count": 2,
   "id": "2775fea6-fc02-4ffd-be00-5cae7092822e",
   "metadata": {},
   "outputs": [
    {
     "name": "stdout",
     "output_type": "stream",
     "text": [
      "Min, max: -3,40\n"
     ]
    }
   ],
   "source": [
    "#create a vector\n",
    "v = np.array([1,40,2,-3])\n",
    "\n",
    "#find and report the maximum and minimum values\n",
    "minval = np.min(v)\n",
    "maxval = np.max(v)\n",
    "\n",
    "print('Min, max: %g,%g' %(minval, maxval))"
   ]
  },
  {
   "cell_type": "code",
   "execution_count": 10,
   "id": "d5b09587-4548-4221-8bb7-39cb5c3001d7",
   "metadata": {},
   "outputs": [
    {
     "name": "stdout",
     "output_type": "stream",
     "text": [
      "Min,max indices: 3,1\n",
      " \n",
      "Min val is -3, max val is 40\n"
     ]
    }
   ],
   "source": [
    "#argmin, argmax values\n",
    "minidx = np.argmin(v)\n",
    "maxidx = np.argmax(v)\n",
    "\n",
    "print('Min,max indices: %g,%g' %(minidx,maxidx) ), print(' ')\n",
    "print(f'Min val is {v[minidx]}, max val is {v[maxidx]}')\n"
   ]
  },
  {
   "cell_type": "code",
   "execution_count": 21,
   "id": "6849caa3-cd67-4f7e-b99e-6ab50bbe544c",
   "metadata": {},
   "outputs": [
    {
     "name": "stdout",
     "output_type": "stream",
     "text": [
      "[[ 7  1  0]\n",
      " [20  8  5]]\n",
      "\n",
      "0\n",
      "[7 1 0]\n",
      "[0 5]\n"
     ]
    }
   ],
   "source": [
    "# w/ matrices\n",
    "M = np.array([\n",
    "    [7,1,0],\n",
    "    [20,8,5]7\n",
    "])\n",
    "\n",
    "print(M)\n",
    "\n",
    "#various minima within this matrix\n",
    "minvals1 = np.min(M)           # minimum from entire matrix\n",
    "minvals2 = np.min(M,axis=0) # minimum from each column (across rows)\n",
    "minvals3 = np.min(M,axis=1) # minimum from each row (across columns)\n",
    "print('')\n",
    "\n",
    "print(minvals1)\n",
    "print(minvals2)\n",
    "print(minvals3)"
   ]
  },
  {
   "cell_type": "code",
   "execution_count": null,
   "id": "4091506f-c09b-4249-9396-a81ac7093ea3",
   "metadata": {},
   "outputs": [],
   "source": []
  }
 ],
 "metadata": {
  "kernelspec": {
   "display_name": "Python 3 (ipykernel)",
   "language": "python",
   "name": "python3"
  },
  "language_info": {
   "codemirror_mode": {
    "name": "ipython",
    "version": 3
   },
   "file_extension": ".py",
   "mimetype": "text/x-python",
   "name": "python",
   "nbconvert_exporter": "python",
   "pygments_lexer": "ipython3",
   "version": "3.11.8"
  }
 },
 "nbformat": 4,
 "nbformat_minor": 5
}
